{
 "cells": [
  {
   "cell_type": "markdown",
   "id": "c94c1680",
   "metadata": {},
   "source": [
    "# US Accidents Exploratory Data Analysis\n",
    "\n",
    "TODO- Work on EDA\n",
    "TODO- Work on Dataset\n",
    "\n",
    "\n",
    "\n",
    "\n",
    "-Kaggle\n",
    "-Information about the accident\n",
    "-Can be useful to determine the underlying cause behind the car accidents\n",
    "-This dataset doesn't contain information related to New York\n",
    "\n"
   ]
  },
  {
   "cell_type": "markdown",
   "id": "c961a043",
   "metadata": {},
   "source": [
    "# Data preparation and cleaning\n",
    "\n",
    "- Load the files using pandas\n",
    "- Have a look at some information pertinent to the file\n",
    "- Resolve any missing or incorrect values about the data and the columns\n",
    "\n",
    "- "
   ]
  },
  {
   "cell_type": "code",
   "execution_count": null,
   "id": "b62154f1",
   "metadata": {},
   "outputs": [],
   "source": [
    "import pandas as pd"
   ]
  },
  {
   "cell_type": "code",
   "execution_count": null,
   "id": "1afb78e7",
   "metadata": {},
   "outputs": [],
   "source": [
    "df=pd.read_csv(\"US_Accidents_March23.csv\")"
   ]
  },
  {
   "cell_type": "code",
   "execution_count": null,
   "id": "253e8240",
   "metadata": {},
   "outputs": [],
   "source": [
    "df"
   ]
  },
  {
   "cell_type": "code",
   "execution_count": null,
   "id": "d2253c40",
   "metadata": {},
   "outputs": [],
   "source": [
    "df.head(5)"
   ]
  },
  {
   "cell_type": "code",
   "execution_count": null,
   "id": "87e79b90",
   "metadata": {},
   "outputs": [],
   "source": [
    "df.columns"
   ]
  },
  {
   "cell_type": "code",
   "execution_count": null,
   "id": "9f061cc8",
   "metadata": {},
   "outputs": [],
   "source": [
    "df.info()"
   ]
  },
  {
   "cell_type": "code",
   "execution_count": null,
   "id": "efeebad8",
   "metadata": {},
   "outputs": [],
   "source": [
    "df.describe()"
   ]
  },
  {
   "cell_type": "code",
   "execution_count": null,
   "id": "35a10abe",
   "metadata": {},
   "outputs": [],
   "source": [
    "numerics=[\"int16\",\"int32\",\"int64\",\"float16\",\"float32\",\"float64\"]"
   ]
  },
  {
   "cell_type": "code",
   "execution_count": null,
   "id": "4d85e304",
   "metadata": {},
   "outputs": [],
   "source": [
    "numeric_df=df.select_dtypes(include=numerics)"
   ]
  },
  {
   "cell_type": "code",
   "execution_count": null,
   "id": "86b7f1cb",
   "metadata": {},
   "outputs": [],
   "source": [
    "len(numeric_df.columns)"
   ]
  },
  {
   "cell_type": "markdown",
   "id": "94777360",
   "metadata": {},
   "source": [
    "# Percentage of missing values per column"
   ]
  },
  {
   "cell_type": "code",
   "execution_count": null,
   "id": "aafa3bcd",
   "metadata": {},
   "outputs": [],
   "source": [
    "missing_percentage=df.isna().sum().sort_values(ascending=False)/len(df)\n",
    "missing_percentage"
   ]
  },
  {
   "cell_type": "code",
   "execution_count": null,
   "id": "a9754e6b",
   "metadata": {},
   "outputs": [],
   "source": [
    "missing_percentage[missing_percentage !=0]"
   ]
  },
  {
   "cell_type": "code",
   "execution_count": null,
   "id": "58194560",
   "metadata": {},
   "outputs": [],
   "source": [
    "type(missing_percentage)"
   ]
  },
  {
   "cell_type": "code",
   "execution_count": null,
   "id": "ea930a67",
   "metadata": {},
   "outputs": [],
   "source": [
    "missing_percentage[missing_percentage !=0].plot(kind=\"barh\")"
   ]
  },
  {
   "cell_type": "markdown",
   "id": "520c9074",
   "metadata": {},
   "source": [
    "# Removing columns that are unusable"
   ]
  },
  {
   "cell_type": "code",
   "execution_count": null,
   "id": "67468759",
   "metadata": {},
   "outputs": [],
   "source": []
  },
  {
   "cell_type": "markdown",
   "id": "73b1cd3c",
   "metadata": {},
   "source": [
    "# Exploratory Data  Analysis and Visualization\n",
    "\n",
    "Columns to Analyze\n",
    "\n",
    "- City\n",
    "- Start_Lat , Start_Lng\n",
    "- Start_Time\n",
    "- Temperature\n",
    "- Weather_Condition\n",
    "\n"
   ]
  },
  {
   "cell_type": "code",
   "execution_count": null,
   "id": "7928206c",
   "metadata": {},
   "outputs": [],
   "source": [
    "df.columns"
   ]
  },
  {
   "cell_type": "markdown",
   "id": "0db5535b",
   "metadata": {},
   "source": [
    "### City"
   ]
  },
  {
   "cell_type": "code",
   "execution_count": null,
   "id": "18a1e31e",
   "metadata": {},
   "outputs": [],
   "source": [
    "df.City"
   ]
  },
  {
   "cell_type": "code",
   "execution_count": null,
   "id": "84c48f6d",
   "metadata": {},
   "outputs": [],
   "source": [
    "cities=df.City.unique()\n",
    "len(cities)"
   ]
  },
  {
   "cell_type": "code",
   "execution_count": null,
   "id": "5bd4da03",
   "metadata": {},
   "outputs": [],
   "source": [
    "cities[:100]"
   ]
  },
  {
   "cell_type": "code",
   "execution_count": null,
   "id": "4a009d58",
   "metadata": {},
   "outputs": [],
   "source": [
    "cities_by_accident=df.City.value_counts()"
   ]
  },
  {
   "cell_type": "code",
   "execution_count": null,
   "id": "9c9ddd09",
   "metadata": {},
   "outputs": [],
   "source": [
    "cities_by_accident"
   ]
  },
  {
   "cell_type": "code",
   "execution_count": null,
   "id": "6c3c0f45",
   "metadata": {},
   "outputs": [],
   "source": [
    "cities_by_accident[:10]"
   ]
  },
  {
   "cell_type": "code",
   "execution_count": null,
   "id": "882664c2",
   "metadata": {},
   "outputs": [],
   "source": [
    "\"NY\" in df.State"
   ]
  },
  {
   "cell_type": "code",
   "execution_count": null,
   "id": "fb1ac458",
   "metadata": {
    "scrolled": false
   },
   "outputs": [],
   "source": [
    "cities_by_accident[:16].plot(kind=\"barh\")"
   ]
  },
  {
   "cell_type": "code",
   "execution_count": null,
   "id": "94882946",
   "metadata": {},
   "outputs": [],
   "source": [
    "import seaborn as sns\n",
    "sns.set_style(\"darkgrid\")"
   ]
  },
  {
   "cell_type": "code",
   "execution_count": null,
   "id": "1e2a1bee",
   "metadata": {},
   "outputs": [],
   "source": [
    "sns.distplot(cities_by_accident)"
   ]
  },
  {
   "cell_type": "code",
   "execution_count": null,
   "id": "7f2cf46c",
   "metadata": {},
   "outputs": [],
   "source": [
    "high_accident_cities=cities_by_accident[cities_by_accident>=1000]\n",
    "low_accident_cities=cities_by_accident[cities_by_accident<1000]"
   ]
  },
  {
   "cell_type": "code",
   "execution_count": null,
   "id": "c566fa93",
   "metadata": {},
   "outputs": [],
   "source": [
    "len(high_accident_cities)/len(cities)"
   ]
  },
  {
   "cell_type": "code",
   "execution_count": null,
   "id": "ba5879ba",
   "metadata": {},
   "outputs": [],
   "source": [
    "sns.distplot(high_accident_cities)"
   ]
  },
  {
   "cell_type": "code",
   "execution_count": null,
   "id": "e21f8e04",
   "metadata": {},
   "outputs": [],
   "source": [
    "sns.distplot(low_accident_cities)"
   ]
  },
  {
   "cell_type": "code",
   "execution_count": null,
   "id": "8c4ffc06",
   "metadata": {},
   "outputs": [],
   "source": [
    "sns.histplot(cities_by_accident,log_scale=True)"
   ]
  },
  {
   "cell_type": "code",
   "execution_count": null,
   "id": "17190e36",
   "metadata": {},
   "outputs": [],
   "source": [
    "cities_by_accident[cities_by_accident==1]"
   ]
  },
  {
   "cell_type": "code",
   "execution_count": null,
   "id": "6464646d",
   "metadata": {},
   "outputs": [],
   "source": [
    "no_of_cities_with_one_accident=len(cities_by_accident[cities_by_accident==1])"
   ]
  },
  {
   "cell_type": "code",
   "execution_count": null,
   "id": "29179815",
   "metadata": {},
   "outputs": [],
   "source": [
    "no_of_cities_with_one_accident"
   ]
  },
  {
   "cell_type": "markdown",
   "id": "42504113",
   "metadata": {},
   "source": [
    "### Start Time"
   ]
  },
  {
   "cell_type": "code",
   "execution_count": null,
   "id": "b0e2c274",
   "metadata": {},
   "outputs": [],
   "source": [
    "df.columns"
   ]
  },
  {
   "cell_type": "code",
   "execution_count": null,
   "id": "86791f62",
   "metadata": {},
   "outputs": [],
   "source": [
    "df.Start_Time"
   ]
  },
  {
   "cell_type": "code",
   "execution_count": null,
   "id": "6ac70d4b",
   "metadata": {},
   "outputs": [],
   "source": [
    "df.Start_Time = pd.to_datetime(df.Start_Time,format=\"ISO8601\")\n"
   ]
  },
  {
   "cell_type": "code",
   "execution_count": null,
   "id": "6d359cec",
   "metadata": {},
   "outputs": [],
   "source": [
    "df.Start_Time[0]"
   ]
  },
  {
   "cell_type": "code",
   "execution_count": null,
   "id": "e15e3e39",
   "metadata": {},
   "outputs": [],
   "source": [
    "sns.distplot(df.Start_Time.dt.hour,bins=24,kde=False,norm_hist=True)"
   ]
  },
  {
   "cell_type": "markdown",
   "id": "aecdfb00",
   "metadata": {},
   "source": [
    "- A higher percentage of accident occurs during 6 AM to 9 AM .\n",
    "- It's probably due to traffic observed during times when people mostly get out of their homes for work. Such conditions make it conducive for people to find themselves in such situations.\n",
    "- The next highest peak after 9 AM is observed at 3 AM to 6 AM"
   ]
  },
  {
   "cell_type": "code",
   "execution_count": null,
   "id": "a08afd4a",
   "metadata": {},
   "outputs": [],
   "source": [
    "sns.distplot(df.Start_Time.dt.dayofweek,bins=7,kde=False,norm_hist=True)"
   ]
  },
  {
   "cell_type": "code",
   "execution_count": null,
   "id": "254cf58f",
   "metadata": {},
   "outputs": [],
   "source": [
    "Sunday_Start_Time=df.Start_Time[df.Start_Time.dt.dayofweek==6]"
   ]
  },
  {
   "cell_type": "code",
   "execution_count": null,
   "id": "69d1d355",
   "metadata": {},
   "outputs": [],
   "source": [
    "sns.distplot(Sunday_Start_Time.dt.hour,bins=24,kde=False,norm_hist=True)"
   ]
  },
  {
   "cell_type": "code",
   "execution_count": null,
   "id": "eedcdfbf",
   "metadata": {},
   "outputs": [],
   "source": [
    "Monday_Start_Time=df.Start_Time[df.Start_Time.dt.dayofweek==0]"
   ]
  },
  {
   "cell_type": "code",
   "execution_count": null,
   "id": "ab347375",
   "metadata": {},
   "outputs": [],
   "source": [
    "sns.distplot(Monday_Start_Time.dt.hour,bins=24,kde=False,norm_hist=True)"
   ]
  },
  {
   "cell_type": "markdown",
   "id": "81f13824",
   "metadata": {},
   "source": [
    "### Insights\n",
    "\n",
    "- On sundays peak occurs between 10 am and 3 pm unlike weekdays"
   ]
  },
  {
   "cell_type": "code",
   "execution_count": null,
   "id": "de2bb457",
   "metadata": {},
   "outputs": [],
   "source": [
    "sns.distplot(df.Start_Time.dt.month,bins=12,kde=False,norm_hist=True)"
   ]
  },
  {
   "cell_type": "code",
   "execution_count": null,
   "id": "c9c5fcf0",
   "metadata": {},
   "outputs": [],
   "source": [
    "df_2018=df[df.Start_Time.dt.year==2018]"
   ]
  },
  {
   "cell_type": "code",
   "execution_count": null,
   "id": "52904704",
   "metadata": {},
   "outputs": [],
   "source": [
    "sns.distplot(df_2018.Start_Time.dt.month,bins=12,kde=False,norm_hist=True)"
   ]
  },
  {
   "cell_type": "markdown",
   "id": "81dcd483",
   "metadata": {},
   "source": [
    "After observing the month wise distributiom of data across years we can conclude\n",
    "\n",
    "- Much data is missing towards the starin regards to the oting and ending years of the dataset whereas the rest of them shows quite fidelity in data in regards to the occurence of accidents reported.\n",
    "\n",
    "- There seems to be some issues with source 2 [Bing data] for the data coming from their lacks consistency as observed from several distplot charts"
   ]
  },
  {
   "cell_type": "code",
   "execution_count": null,
   "id": "9f33bddc",
   "metadata": {},
   "outputs": [],
   "source": [
    "df.Source.value_counts().plot(kind=\"pie\")"
   ]
  },
  {
   "cell_type": "code",
   "execution_count": null,
   "id": "a8b3dd11",
   "metadata": {},
   "outputs": [],
   "source": [
    "df.Source.unique()"
   ]
  },
  {
   "cell_type": "markdown",
   "id": "bb45d284",
   "metadata": {},
   "source": [
    "Since bing data have some issues one must deem it to be wise to exclude the data coming from the source 2 for it's irrelevance has been proven by taking into consideration the issues pertinent to infedility and missing values"
   ]
  },
  {
   "cell_type": "markdown",
   "id": "07665611",
   "metadata": {},
   "source": [
    "## Start Latitude and longitude "
   ]
  },
  {
   "cell_type": "code",
   "execution_count": null,
   "id": "26ec6c1b",
   "metadata": {},
   "outputs": [],
   "source": [
    "df.Start_Lat"
   ]
  },
  {
   "cell_type": "code",
   "execution_count": null,
   "id": "089fc8c6",
   "metadata": {},
   "outputs": [],
   "source": [
    "df.Start_Lng"
   ]
  },
  {
   "cell_type": "code",
   "execution_count": null,
   "id": "11f4199d",
   "metadata": {},
   "outputs": [],
   "source": [
    "sns.scatterplot(x=df.Start_Lng,y=df.Start_Lat,size=0.001)"
   ]
  },
  {
   "cell_type": "code",
   "execution_count": null,
   "id": "166b9123",
   "metadata": {},
   "outputs": [],
   "source": [
    "pip install folium"
   ]
  },
  {
   "cell_type": "code",
   "execution_count": null,
   "id": "dd314908",
   "metadata": {},
   "outputs": [],
   "source": [
    "import folium"
   ]
  },
  {
   "cell_type": "code",
   "execution_count": null,
   "id": "ac1542fb",
   "metadata": {},
   "outputs": [],
   "source": [
    "folium.Map()"
   ]
  },
  {
   "cell_type": "code",
   "execution_count": null,
   "id": "ed9e7b96",
   "metadata": {},
   "outputs": [],
   "source": [
    "lat,lon=df.Start_Lat[0],df.Start_Lng[0]\n",
    "lat,lon"
   ]
  },
  {
   "cell_type": "code",
   "execution_count": null,
   "id": "b442014f",
   "metadata": {},
   "outputs": [],
   "source": [
    "map=folium.Map()\n",
    "marker=folium.Marker((lat,lon))\n",
    "marker.add_to(map)\n",
    "map"
   ]
  },
  {
   "cell_type": "code",
   "execution_count": null,
   "id": "41114135",
   "metadata": {},
   "outputs": [],
   "source": [
    "from folium.plugins import HeatMap\n",
    "map=folium.Map()\n",
    "HeatMap(zip(list(df.Start_Lat),list(df.Start_Lng))).add_to(map)\n",
    "map"
   ]
  },
  {
   "cell_type": "markdown",
   "id": "44c9aab1",
   "metadata": {},
   "source": [
    "# Some ask and answer questions\n",
    "\n",
    "- Are there more accidents in warmer or cooler areas?\n",
    "- Does New York show up in the data? If yes then why is the count lower if it is recorded as the most populated city.\n",
    "- Which states does top cities where the most number of accidents were recorded belong to?\n",
    "- Which time of the day does accidents happen most frequently?\n",
    "- Which days of the week have the most accidemts?\n",
    "- Which months have the most accident?\n",
    "- What's the trend line like related to accident on yearly basis?"
   ]
  },
  {
   "cell_type": "code",
   "execution_count": null,
   "id": "93ab4611",
   "metadata": {},
   "outputs": [],
   "source": []
  },
  {
   "cell_type": "code",
   "execution_count": null,
   "id": "51bcecf1",
   "metadata": {},
   "outputs": [],
   "source": []
  },
  {
   "cell_type": "code",
   "execution_count": null,
   "id": "b3fa2d28",
   "metadata": {},
   "outputs": [],
   "source": []
  },
  {
   "cell_type": "code",
   "execution_count": null,
   "id": "8ee57d75",
   "metadata": {},
   "outputs": [],
   "source": []
  },
  {
   "cell_type": "code",
   "execution_count": null,
   "id": "80c74345",
   "metadata": {},
   "outputs": [],
   "source": []
  },
  {
   "cell_type": "code",
   "execution_count": null,
   "id": "78e7e5d1",
   "metadata": {},
   "outputs": [],
   "source": []
  },
  {
   "cell_type": "code",
   "execution_count": null,
   "id": "85d434fb",
   "metadata": {},
   "outputs": [],
   "source": []
  },
  {
   "cell_type": "code",
   "execution_count": null,
   "id": "2327783d",
   "metadata": {},
   "outputs": [],
   "source": []
  },
  {
   "cell_type": "code",
   "execution_count": null,
   "id": "8a42c34b",
   "metadata": {},
   "outputs": [],
   "source": []
  },
  {
   "cell_type": "code",
   "execution_count": null,
   "id": "9f8eb58b",
   "metadata": {},
   "outputs": [],
   "source": []
  },
  {
   "cell_type": "code",
   "execution_count": null,
   "id": "a9cfc8bb",
   "metadata": {},
   "outputs": [],
   "source": []
  },
  {
   "cell_type": "code",
   "execution_count": null,
   "id": "e830df30",
   "metadata": {},
   "outputs": [],
   "source": []
  },
  {
   "cell_type": "markdown",
   "id": "0675dc62",
   "metadata": {},
   "source": [
    "# Summary , Conclusion and Insights\n",
    "\n",
    "- No data was reported from New York\n",
    "- Less than 5% of cities have more than 1000 yearly accidents which alludes to the pareto distribution (power law).\n",
    "- Over 1000 cities reported just one accident ( Requires further investigation )."
   ]
  }
 ],
 "metadata": {
  "kernelspec": {
   "display_name": "Python 3 (ipykernel)",
   "language": "python",
   "name": "python3"
  },
  "language_info": {
   "codemirror_mode": {
    "name": "ipython",
    "version": 3
   },
   "file_extension": ".py",
   "mimetype": "text/x-python",
   "name": "python",
   "nbconvert_exporter": "python",
   "pygments_lexer": "ipython3",
   "version": "3.11.5"
  }
 },
 "nbformat": 4,
 "nbformat_minor": 5
}
